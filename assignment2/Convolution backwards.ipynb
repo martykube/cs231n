{
 "cells": [
  {
   "cell_type": "code",
   "execution_count": 1,
   "metadata": {
    "collapsed": true
   },
   "outputs": [],
   "source": [
    "import numpy as np\n",
    "from cs231n.gradient_check import eval_numerical_gradient, eval_numerical_gradient_array\n",
    "\n",
    "def rel_error(x, y):\n",
    "  \"\"\" returns relative error \"\"\"\n",
    "  return np.max(np.abs(x - y) / (np.maximum(1e-8, np.abs(x) + np.abs(y))))"
   ]
  },
  {
   "cell_type": "markdown",
   "metadata": {},
   "source": [
    "**Sample Data**"
   ]
  },
  {
   "cell_type": "code",
   "execution_count": 10,
   "metadata": {
    "collapsed": false
   },
   "outputs": [
    {
     "name": "stdout",
     "output_type": "stream",
     "text": [
      "HO, WO 3 3\n"
     ]
    }
   ],
   "source": [
    "# Stride and Pad\n",
    "(S, P) = (2, 1)\n",
    "# Input Channels, HeightIn, WidthIn\n",
    "(C, HI, WI) = (3, 5, 5)\n",
    "# Filters, HeightFilter, WidthFilter\n",
    "(F, HF, WF) = (2, 3, 3)\n",
    "# Output image HeightOut, WidthOut\n",
    "(HO, WO) = ((HI - HF + 2*P)/S + 1, (WI - WF + 2*P)/S + 1) \n",
    "print \"HO, WO\", HO, WO\n",
    "\n",
    "x= np.empty((C, HI, WI))\n",
    "x[0, :, :] = np.array([\n",
    "    [2, 0, 2, 2, 0], \n",
    "    [1, 2, 2, 2, 2], \n",
    "    [0, 0, 1, 0, 0], \n",
    "    [2, 1, 0, 2, 1], \n",
    "    [0, 1, 0, 1, 2], \n",
    "])\n",
    "\n",
    "x[1, :, :] = np.array([\n",
    "    [2, 0, 1, 2, 0], \n",
    "    [2, 0, 2, 0, 1], \n",
    "    [2, 1, 1, 2, 1], \n",
    "    [2, 1, 1, 2, 2], \n",
    "    [2, 0, 0, 0, 2], \n",
    "])\n",
    "\n",
    "x[2, :, :]  = np.array([\n",
    "    [2, 2, 2, 2, 0], \n",
    "    [1, 0, 0, 1, 2], \n",
    "    [2, 1, 2, 2, 1], \n",
    "    [2, 0, 2, 2, 1], \n",
    "    [1, 0, 0, 2, 1], \n",
    "])\n",
    "\n",
    "# Filters, Channels, HF, WF\n",
    "w = np.empty((2, 3, 3, 3))\n",
    "w[0, 0, :, :] = np.array([\n",
    "        [0, 0, -1],\n",
    "        [0, 1, 0],\n",
    "        [1, 0, 0]\n",
    "    ])\n",
    "w[0, 1, :, :] = np.array([\n",
    "        [1, 1, 1],\n",
    "        [-1, 1, 1],\n",
    "        [1, 0, -1]\n",
    "    ])\n",
    "w[0, 2, :, :] = np.array([\n",
    "        [0, 1, -1],\n",
    "        [0, 1, 1],\n",
    "        [0, -1, 1]\n",
    "    ])\n",
    "\n",
    "w[1, 0, :, :] = np.array([\n",
    "        [-1, 0, 1],\n",
    "        [0, 1, -1],\n",
    "        [0, 1, 1]\n",
    "    ])\n",
    "w[1, 1, :, :] = np.array([\n",
    "        [1, -1, 0],\n",
    "        [1, 0, 1],\n",
    "        [0, 1, -1]\n",
    "    ])\n",
    "w[1, 2, :, :] = np.array([\n",
    "        [-1, -1, 1],\n",
    "        [0, -1, -1],\n",
    "        [-1, 0, 0]\n",
    "    ])\n",
    "b = np.array([1, 0])\n",
    "\n",
    "correct_out = np.array([\n",
    "        [[8, 13, -1],\n",
    "        [5, 7, 7],\n",
    "        [8, 5, 11]],\n",
    "        [[3, 4, 4],\n",
    "        [1, 0, -4],\n",
    "        [-5, -2, -4]],\n",
    "    ])"
   ]
  },
  {
   "cell_type": "markdown",
   "metadata": {},
   "source": [
    "** Forward pass **"
   ]
  },
  {
   "cell_type": "code",
   "execution_count": 14,
   "metadata": {
    "collapsed": false
   },
   "outputs": [
    {
     "name": "stdout",
     "output_type": "stream",
     "text": [
      "Forward pass error\n",
      "error:  0.0\n"
     ]
    }
   ],
   "source": [
    "x_pad = np.pad(x, ((0, 0), (P, P), (P, P)), 'constant')\n",
    "out = np.empty((F, HO, WO))\n",
    "for f in range (F):\n",
    "    for i in range(HO):\n",
    "      for j in range(WO):\n",
    "            out[f, i, j] = np.sum(x_pad[:, i*S:i*S+HF, j*S:j*S+WF] * w[f]) + b[f]\n",
    "\n",
    "print 'Forward pass error'\n",
    "print 'error: ', rel_error(out, correct_out)\n",
    "# print out\n",
    "# print correct_out"
   ]
  },
  {
   "cell_type": "markdown",
   "metadata": {},
   "source": [
    "** Forward pass in steps **"
   ]
  },
  {
   "cell_type": "code",
   "execution_count": 15,
   "metadata": {
    "collapsed": true
   },
   "outputs": [],
   "source": [
    "def pad_x(x, P):\n",
    "    \"\"\"\n",
    "    Pad x with P zeros before and after image dimensions\n",
    "    Input \n",
    "        - x (C, H, W)\n",
    "    Output\n",
    "        - x(C, H + 2P, W + 2P)\n",
    "    \"\"\"\n",
    "    return np.pad(x, ((0, 0), (P, P), (P, P)), 'constant')\n",
    "\n",
    "\n",
    "def distribute_x(x, HF, WF, S):\n",
    "    '''\n",
    "    Distribute input image to convolution ready sub-images.  \n",
    "    Make a filter ready image for each filter and output image dimension \n",
    "    Inputs:\n",
    "    - x (C, H, W) input image\n",
    "    Output\n",
    "    - out (F, HO, WO, C, HF, WF)\n",
    "    -- F number of filters\n",
    "    -- HO, WO, output dimensions\n",
    "    -- C Input channels\n",
    "    -- HF WF filter dimensions\n",
    "    '''\n",
    "    (C, HI, WI) = x.shape\n",
    "    HO = 1 + (HI - HF) / S\n",
    "    WO = 1 + (WI - WF) / S\n",
    "    out = np.empty((F, HO, WO, C, HF, WF))\n",
    "\n",
    "    for f in range(F):\n",
    "        for i in range(HO):\n",
    "            for j in range(WO):\n",
    "                out[f, i, j] = x[:, i*S:i*S+HF, j*S:j*S+WF]\n",
    "    return out\n",
    "\n",
    "def multiply_w(x, w):\n",
    "    '''\n",
    "    Apply filters to (C, HF, WF) sections\n",
    "    Inputs\n",
    "    - x (F, HO, WO, C, HF, WF)\n",
    "    - w (F, C, HF, WF)\n",
    "    Returns\n",
    "    - out (F, HO, WO, C, HF, WF)\n",
    "    '''\n",
    "    out = np.empty((F, HO, WO, C, HF, WF))\n",
    "    for f in range(F):\n",
    "        for i in range(HO):\n",
    "            for j in range(WO):\n",
    "                out[f, i, j] = x[f, i, j] * w[f]\n",
    "    return out\n",
    "    \n",
    "def sum_filter(x):\n",
    "    '''\n",
    "    For each out pixel sum up weighted x*w over (C, HF, WF)\n",
    "    Input\n",
    "    - x (F, HO, WO, C, HF, WF)\n",
    "    Output\n",
    "    - out (F, HO, WO)\n",
    "    '''\n",
    "    out = np.empty((F, HO, WO))\n",
    "    for f in range(F):\n",
    "        for i in range(HO):\n",
    "            for j in range(WO):\n",
    "                out[f, i, j] = np.sum(x[f, i, j])\n",
    "    return out\n",
    "\n",
    "def add_bias(x, b):\n",
    "    '''\n",
    "    Apply the bias terms\n",
    "    Inputs\n",
    "    - x (F, HO, WO)\n",
    "    - b (F,)\n",
    "    '''\n",
    "    out = np.empty_like(x)\n",
    "    for f in range(F):\n",
    "        out[f] = x[f] + b[f]\n",
    "    return out\n"
   ]
  },
  {
   "cell_type": "markdown",
   "metadata": {},
   "source": [
    "### Test back prop on pad"
   ]
  },
  {
   "cell_type": "code",
   "execution_count": 6,
   "metadata": {
    "collapsed": false
   },
   "outputs": [
    {
     "name": "stdout",
     "output_type": "stream",
     "text": [
      "Testing pad function\n",
      "dx error:  3.27561298137e-12\n"
     ]
    }
   ],
   "source": [
    "def padx(x, P):\n",
    "    \"\"\"\n",
    "    Pad x with P zeros before and after image dimensions\n",
    "    Input \n",
    "        - x (C, H, W)\n",
    "    Output\n",
    "        - x(C, H + 2P, W + 2P)\n",
    "    \"\"\"\n",
    "    return np.pad(x, ((0, 0), (P, P), (P, P)), 'constant')\n",
    "\n",
    "dout = np.random.randn(C, HI + 2 st* P, WI + 2 * P)\n",
    "\n",
    "# evaluate numerical gradient\n",
    "dx_num = eval_numerical_gradient_array(lambda x: padx(x, P), x, dout)\n",
    "# print \"dx_num\\n\", dx_num\n",
    "\n",
    "# evalute gradient via backpropagation\n",
    "dx = dout[:, 1:HI + 2 * P - 1, 1:WI + 2 * P - 1]\n",
    "# print \"dx\\n\", dx\n",
    "\n",
    "print 'Testing pad function'\n",
    "print 'dx error: ', rel_error(dx, dx_num)\n"
   ]
  },
  {
   "cell_type": "markdown",
   "metadata": {},
   "source": [
    "### test backprop on distribute"
   ]
  },
  {
   "cell_type": "code",
   "execution_count": 14,
   "metadata": {
    "collapsed": false
   },
   "outputs": [
    {
     "name": "stdout",
     "output_type": "stream",
     "text": [
      "(2, 3, 3, 3, 3, 3)\n"
     ]
    }
   ],
   "source": [
    "\n",
    "x_pad = padx(x, P)   \n",
    "d = distribute(x_pad, HF, WF, S)\n",
    "print d.shape\n",
    "    \n",
    "\n",
    "    "
   ]
  }
 ],
 "metadata": {
  "kernelspec": {
   "display_name": "Python 2",
   "language": "python",
   "name": "python2"
  },
  "language_info": {
   "codemirror_mode": {
    "name": "ipython",
    "version": 2
   },
   "file_extension": ".py",
   "mimetype": "text/x-python",
   "name": "python",
   "nbconvert_exporter": "python",
   "pygments_lexer": "ipython2",
   "version": "2.7.6"
  }
 },
 "nbformat": 4,
 "nbformat_minor": 0
}
