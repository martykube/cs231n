{
 "cells": [
  {
   "cell_type": "code",
   "execution_count": 1,
   "metadata": {
    "collapsed": false
   },
   "outputs": [
    {
     "ename": "NameError",
     "evalue": "name 'max_pool_forward_naive' is not defined",
     "output_type": "error",
     "traceback": [
      "\u001b[1;31m---------------------------------------------------------------------------\u001b[0m",
      "\u001b[1;31mNameError\u001b[0m                                 Traceback (most recent call last)",
      "\u001b[1;32m<ipython-input-1-7d4aed76d651>\u001b[0m in \u001b[0;36m<module>\u001b[1;34m()\u001b[0m\n\u001b[0;32m      5\u001b[0m \u001b[0mpool_param\u001b[0m \u001b[1;33m=\u001b[0m \u001b[1;33m{\u001b[0m\u001b[1;34m'pool_width'\u001b[0m\u001b[1;33m:\u001b[0m \u001b[1;36m2\u001b[0m\u001b[1;33m,\u001b[0m \u001b[1;34m'pool_height'\u001b[0m\u001b[1;33m:\u001b[0m \u001b[1;36m2\u001b[0m\u001b[1;33m,\u001b[0m \u001b[1;34m'stride'\u001b[0m\u001b[1;33m:\u001b[0m \u001b[1;36m2\u001b[0m\u001b[1;33m}\u001b[0m\u001b[1;33m\u001b[0m\u001b[0m\n\u001b[0;32m      6\u001b[0m \u001b[1;33m\u001b[0m\u001b[0m\n\u001b[1;32m----> 7\u001b[1;33m \u001b[0mout\u001b[0m\u001b[1;33m,\u001b[0m \u001b[0m_\u001b[0m \u001b[1;33m=\u001b[0m \u001b[0mmax_pool_forward_naive\u001b[0m\u001b[1;33m(\u001b[0m\u001b[0mx\u001b[0m\u001b[1;33m,\u001b[0m \u001b[0mpool_param\u001b[0m\u001b[1;33m)\u001b[0m\u001b[1;33m\u001b[0m\u001b[0m\n\u001b[0m\u001b[0;32m      8\u001b[0m \u001b[1;33m\u001b[0m\u001b[0m\n\u001b[0;32m      9\u001b[0m correct_out = np.array([[[[-0.26315789, -0.24842105],\n",
      "\u001b[1;31mNameError\u001b[0m: name 'max_pool_forward_naive' is not defined"
     ]
    }
   ],
   "source": [
    "import numpy as np\n",
    "\n",
    "x_shape = (2, 3, 4, 4)\n",
    "x = np.linspace(-0.3, 0.4, num=np.prod(x_shape)).reshape(x_shape)\n",
    "pool_param = {'pool_width': 2, 'pool_height': 2, 'stride': 2}\n",
    "\n",
    "out, _ = max_pool_forward_naive(x, pool_param)\n",
    "\n",
    "correct_out = np.array([[[[-0.26315789, -0.24842105],\n",
    "                          [-0.20421053, -0.18947368]],\n",
    "                         [[-0.14526316, -0.13052632],\n",
    "                          [-0.08631579, -0.07157895]],\n",
    "                         [[-0.02736842, -0.01263158],\n",
    "                          [ 0.03157895,  0.04631579]]],\n",
    "                        [[[ 0.09052632,  0.10526316],\n",
    "                          [ 0.14947368,  0.16421053]],\n",
    "                         [[ 0.20842105,  0.22315789],\n",
    "                          [ 0.26736842,  0.28210526]],\n",
    "                         [[ 0.32631579,  0.34105263],\n",
    "                          [ 0.38526316,  0.4       ]]]])\n"
   ]
  },
  {
   "cell_type": "code",
   "execution_count": 12,
   "metadata": {
    "collapsed": false
   },
   "outputs": [
    {
     "name": "stdout",
     "output_type": "stream",
     "text": [
      "slice\n",
      "[[[[ 6.  1.]\n",
      "   [ 3.  2.]]\n",
      "\n",
      "  [[ 2.  8.]\n",
      "   [ 9.  4.]]\n",
      "\n",
      "  [[ 5.  3.]\n",
      "   [ 6.  9.]]]\n",
      "\n",
      "\n",
      " [[[ 7.  4.]\n",
      "   [ 6.  3.]]\n",
      "\n",
      "  [[ 9.  8.]\n",
      "   [ 1.  4.]]\n",
      "\n",
      "  [[ 3.  9.]\n",
      "   [ 7.  3.]]]]\n",
      "max_height [[ 6.  9.  9.]\n",
      " [ 7.  9.  9.]]\n",
      "max_idx\n",
      "[[[ 0.  0.]\n",
      "  [ 1.  0.]\n",
      "  [ 1.  1.]]\n",
      "\n",
      " [[ 0.  0.]\n",
      "  [ 0.  0.]\n",
      "  [ 0.  1.]]]\n"
     ]
    }
   ],
   "source": [
    "x_slice = np.array(\n",
    "[[[[ 6.,  1.],\n",
    "   [ 3.,  2.]],\n",
    "\n",
    "  [[ 2.,  8.],\n",
    "   [ 9.,  4.]],\n",
    "\n",
    "  [[ 5.,  3.],\n",
    "   [ 6.,  9.]]],\n",
    "\n",
    "\n",
    " [[[ 7.,  4.],\n",
    "   [ 6.,  3.]],\n",
    "\n",
    "  [[ 9.,  8.],\n",
    "   [ 1.,  4.]],\n",
    "\n",
    "  [[ 3.,  9.],\n",
    "   [ 7.,  3.]]]])\n",
    "print \"slice\\n\", x_slice\n",
    "\n",
    "max_width = np.max(x_slice, axis=3)\n",
    "args_width = np.argmax(x_slice, axis=3)\n",
    "max_height = np.max(max_width, axis=2)\n",
    "args_height = np.argmax(max_width, axis=2)\n",
    "\n",
    "print \"max_height\", max_height\n",
    "\n",
    "# this is for only one point...  We need stride across an image\n",
    "\n",
    "# this confirm we can go back to coordinates\n",
    "# NxCx2 for (row, col) per point and channel\n",
    "max_idx = np.empty((2, 3, 2))\n",
    "for p in range(2):\n",
    "    for c in range(3):\n",
    "        row = args_height[p, c]\n",
    "        col = args_width[p, c, row]\n",
    "        max_idx[p, c] = np.array([row, col])\n",
    "# cache max_idx        \n",
    "print \"max_idx\\n\", max_idx\n"
   ]
  },
  {
   "cell_type": "code",
   "execution_count": 10,
   "metadata": {
    "collapsed": false
   },
   "outputs": [
    {
     "name": "stdout",
     "output_type": "stream",
     "text": [
      "H_steps, W_steps 2 4\n",
      "0 0\n",
      "0 2\n",
      "0 4\n",
      "0 6\n",
      "2 0\n",
      "2 2\n",
      "2 4\n",
      "2 6\n"
     ]
    }
   ],
   "source": [
    "H, W = 4, 8\n",
    "HP, WP = 2, 2\n",
    "S = 2\n",
    "H_steps = (H - HP)/ S + 1\n",
    "W_steps = (W - WP) / S + 1\n",
    "print \"H_steps, W_steps\", H_steps, W_steps\n",
    "\n",
    "for row in range(H_steps):\n",
    "    for col in range(W_steps):\n",
    "        print row * S, col * S\n",
    "        \n",
    "np.uint"
   ]
  }
 ],
 "metadata": {
  "kernelspec": {
   "display_name": "Python 2",
   "language": "python",
   "name": "python2"
  },
  "language_info": {
   "codemirror_mode": {
    "name": "ipython",
    "version": 2
   },
   "file_extension": ".py",
   "mimetype": "text/x-python",
   "name": "python",
   "nbconvert_exporter": "python",
   "pygments_lexer": "ipython2",
   "version": "2.7.6"
  }
 },
 "nbformat": 4,
 "nbformat_minor": 0
}
