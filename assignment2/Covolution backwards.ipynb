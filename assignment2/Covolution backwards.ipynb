{
 "cells": [
  {
   "cell_type": "code",
   "execution_count": 1,
   "metadata": {
    "collapsed": true
   },
   "outputs": [],
   "source": [
    "import numpy as np\n",
    "from cs231n.gradient_check import eval_numerical_gradient, eval_numerical_gradient_array\n",
    "\n",
    "def rel_error(x, y):\n",
    "  \"\"\" returns relative error \"\"\"\n",
    "  return np.max(np.abs(x - y) / (np.maximum(1e-8, np.abs(x) + np.abs(y))))"
   ]
  },
  {
   "cell_type": "code",
   "execution_count": 15,
   "metadata": {
    "collapsed": false
   },
   "outputs": [],
   "source": [
    "# Stide and Pad\n",
    "(S, P) = (2, 1)\n",
    "# input Channels, HeightIn, WidthIn\n",
    "(C, HI, WI) = (3, 5, 5)\n",
    "# Filters, HeightFilter, WidthFilter\n",
    "(F, HF, WF) = (2, 3, 3)\n",
    "# HeightOut, WidthOut\n",
    "(HO, WO) = ((HI - HF + 2*P)/S + 1, (WI - WF + 2*P)/S + 1) \n",
    "\n",
    "x= np.empty((C, H, W))\n",
    "x[0, :, :] = np.array([\n",
    "    [1, 2, 0, 2, 2], \n",
    "    [1, 2, 2, 0, 0], \n",
    "    [1, 0, 0, 2, 2], \n",
    "    [1, 1, 1, 1, 2], \n",
    "    [1, 0, 0, 1, 2], \n",
    "])\n",
    "\n",
    "x[1, :, :] = np.array([\n",
    "    [0, 0, 1, 0, 1], \n",
    "    [0, 1, 1, 1, 0], \n",
    "    [0, 0, 0, 1, 1], \n",
    "    [2, 1, 0, 2, 1], \n",
    "    [1, 0, 0, 1, 1], \n",
    "])\n",
    "\n",
    "x[2, :, :]  = np.array([\n",
    "    [0, 2, 2, 2, 2], \n",
    "    [1, 0, 2, 2, 0], \n",
    "    [0, 1, 1, 0, 0], \n",
    "    [0, 2, 2, 2, 2], \n",
    "    [0, 0, 2, 0, 0], \n",
    "])\n"
   ]
  },
  {
   "cell_type": "code",
   "execution_count": 22,
   "metadata": {
    "collapsed": false
   },
   "outputs": [
    {
     "name": "stdout",
     "output_type": "stream",
     "text": [
      "Testing pad function\n",
      "dx error:  3.27561087304e-12\n"
     ]
    }
   ],
   "source": [
    "def padx(x, P):\n",
    "    \"\"\"\n",
    "    Pad x with P zeros before and after image dimensions\n",
    "    Input \n",
    "        - x (C, H, W)\n",
    "    Output\n",
    "        - x(C, H + 2P, W + 2P)\n",
    "    \"\"\"\n",
    "    return np.pad(x, ((0, 0), (P, P), (P, P)), 'constant')\n",
    "\n",
    "dout = np.random.randn(C, HI + 2 * P, WI + 2 * P)\n",
    "\n",
    "# evaluate numerical gradient\n",
    "dx_num = eval_numerical_gradient_array(lambda x: padx(x, P), x, dout)\n",
    "# print \"dx_num\\n\", dx_num\n",
    "\n",
    "# evalute gradient via backpropagation\n",
    "dx = dout[:, 1:HI + 2 * P - 1, 1:WI + 2 * P - 1]\n",
    "# print \"dx\\n\", dx\n",
    "\n",
    "print 'Testing pad function'\n",
    "print 'dx error: ', rel_error(dx, dx_num)\n"
   ]
  }
 ],
 "metadata": {
  "kernelspec": {
   "display_name": "Python 2",
   "language": "python",
   "name": "python2"
  },
  "language_info": {
   "codemirror_mode": {
    "name": "ipython",
    "version": 2
   },
   "file_extension": ".py",
   "mimetype": "text/x-python",
   "name": "python",
   "nbconvert_exporter": "python",
   "pygments_lexer": "ipython2",
   "version": "2.7.6"
  }
 },
 "nbformat": 4,
 "nbformat_minor": 0
}
