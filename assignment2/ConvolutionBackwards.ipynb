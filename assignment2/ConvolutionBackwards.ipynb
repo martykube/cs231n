{
 "cells": [
  {
   "cell_type": "code",
   "execution_count": 1,
   "metadata": {
    "collapsed": true
   },
   "outputs": [],
   "source": [
    "import numpy as np\n",
    "from cs231n.gradient_check import eval_numerical_gradient, eval_numerical_gradient_array\n",
    "\n",
    "def rel_error(x, y):\n",
    "  \"\"\" returns relative error \"\"\"\n",
    "  return np.max(np.abs(x - y) / (np.maximum(1e-8, np.abs(x) + np.abs(y))))"
   ]
  },
  {
   "cell_type": "code",
   "execution_count": 2,
   "metadata": {
    "collapsed": false
   },
   "outputs": [
    {
     "name": "stdout",
     "output_type": "stream",
     "text": [
      "HP, WP 7 7\n",
      "HO, WO 3 3\n"
     ]
    }
   ],
   "source": [
    "N = 2\n",
    "# Stride and Pad\n",
    "(S, P) = (2, 1)\n",
    "# Input Channels, HeightIn, WidthIn\n",
    "(C, HI, WI) = (3, 5, 5)\n",
    "# Filters, HeightFilter, WidthFilter\n",
    "(F, HF, WF) = (2, 3, 3)\n",
    "# Padded image dimensions\n",
    "(HP, WP) = HI + 2 * P, WI + 2 * P\n",
    "print \"HP, WP\", HP, WP\n",
    "# Output image HeightOut, WidthOut\n",
    "(HO, WO) = ((HP - HF)/S + 1, (WP - WF)/S + 1) \n",
    "print \"HO, WO\", HO, WO"
   ]
  },
  {
   "cell_type": "markdown",
   "metadata": {},
   "source": [
    "**Sample Data #1 **"
   ]
  },
  {
   "cell_type": "code",
   "execution_count": 3,
   "metadata": {
    "collapsed": false
   },
   "outputs": [],
   "source": [
    "x = np.empty((N, C, HI, WI))\n",
    "x[0, 0, :, :] = np.array([\n",
    "    [2, 0, 2, 2, 0], \n",
    "    [1, 2, 2, 2, 2], \n",
    "    [0, 0, 1, 0, 0], \n",
    "    [2, 1, 0, 2, 1], \n",
    "    [0, 1, 0, 1, 2], \n",
    "])\n",
    "\n",
    "x[0, 1, :, :] = np.array([\n",
    "    [2, 0, 1, 2, 0], \n",
    "    [2, 0, 2, 0, 1], \n",
    "    [2, 1, 1, 2, 1], \n",
    "    [2, 1, 1, 2, 2], \n",
    "    [2, 0, 0, 0, 2], \n",
    "])\n",
    "\n",
    "x[0, 2, :, :]  = np.array([\n",
    "    [2, 2, 2, 2, 0], \n",
    "    [1, 0, 0, 1, 2], \n",
    "    [2, 1, 2, 2, 1], \n",
    "    [2, 0, 2, 2, 1], \n",
    "    [1, 0, 0, 2, 1], \n",
    "])\n",
    "\n",
    "# Filters, Channels, HF, WF\n",
    "w = np.empty((2, 3, 3, 3))\n",
    "w[0, 0, :, :] = np.array([\n",
    "        [0, 0, -1],\n",
    "        [0, 1, 0],\n",
    "        [1, 0, 0]\n",
    "    ])\n",
    "w[0, 1, :, :] = np.array([\n",
    "        [1, 1, 1],\n",
    "        [-1, 1, 1],\n",
    "        [1, 0, -1]\n",
    "    ])\n",
    "w[0, 2, :, :] = np.array([\n",
    "        [0, 1, -1],\n",
    "        [0, 1, 1],\n",
    "        [0, -1, 1]\n",
    "    ])\n",
    "\n",
    "w[1, 0, :, :] = np.array([\n",
    "        [-1, 0, 1],\n",
    "        [0, 1, -1],\n",
    "        [0, 1, 1]\n",
    "    ])\n",
    "w[1, 1, :, :] = np.array([\n",
    "        [1, -1, 0],\n",
    "        [1, 0, 1],\n",
    "        [0, 1, -1]\n",
    "    ])\n",
    "w[1, 2, :, :] = np.array([\n",
    "        [-1, -1, 1],\n",
    "        [0, -1, -1],\n",
    "        [-1, 0, 0]\n",
    "    ])\n",
    "b = np.array([1., 0.])\n",
    "\n",
    "correct_out = np.empty((N, F, HO, WO))\n",
    "correct_out[0] = np.array([\n",
    "        [[8, 13, -1],\n",
    "        [5, 7, 7],\n",
    "        [8, 5, 11]],\n",
    "        [[3, 4, 4],\n",
    "        [1, 0, -4],\n",
    "        [-5, -2, -4]],\n",
    "    ])"
   ]
  },
  {
   "cell_type": "markdown",
   "metadata": {},
   "source": [
    "**Sample Data #2**"
   ]
  },
  {
   "cell_type": "code",
   "execution_count": 4,
   "metadata": {
    "collapsed": false
   },
   "outputs": [],
   "source": [
    "# x= np.empty((C, HI, WI))\n",
    "x[1, 0, :, :] = np.array([\n",
    "    [0, 2, 2, 1, 2], \n",
    "    [0, 1, 1, 1, 1], \n",
    "    [0, 2, 0, 0, 2], \n",
    "    [2, 0, 1, 1, 1], \n",
    "    [2, 2, 0, 1, 2], \n",
    "])\n",
    "\n",
    "x[1, 1, :, :] = np.array([\n",
    "    [2, 2, 1, 2, 1], \n",
    "    [1, 1, 1, 0, 0], \n",
    "    [1, 1, 2, 0, 2], \n",
    "    [0, 1, 0, 2, 1], \n",
    "    [0, 1, 2, 0, 2], \n",
    "])\n",
    "\n",
    "x[1, 2, :, :]  = np.array([\n",
    "    [2, 2, 0, 0, 1], \n",
    "    [1, 1, 0, 2, 0], \n",
    "    [2, 0, 1, 2, 0], \n",
    "    [2, 2, 0, 0, 1], \n",
    "    [0, 1, 0, 1, 0], \n",
    "])\n",
    "\n",
    "# Filters, Channels, HF, WF\n",
    "# w = np.empty((2, 3, 3, 3))\n",
    "# w[0, 0, :, :] = np.array([\n",
    "#     [1, 1, 0], \n",
    "#     [1, 1, -1], \n",
    "#     [-1, 0, 0], \n",
    "#     ])\n",
    "# w[0, 1, :, :] = np.array([\n",
    "#     [0, 1, 0], \n",
    "#     [1, 0, -1], \n",
    "#     [-1, -1, 1], \n",
    "#     ])\n",
    "# w[0, 2, :, :] = np.array([\n",
    "#     [0, -1, 0], \n",
    "#     [1, 1, -1], \n",
    "#     [0, 1, -1], \n",
    "#     ])\n",
    "\n",
    "# w[1, 0, :, :] = np.array([\n",
    "#     [-1, 0, -1], \n",
    "#     [-1, 0, 0], \n",
    "#     [-1, 1, 1], \n",
    "#     ])\n",
    "# w[1, 1, :, :] = np.array([\n",
    "#     [-1, 1, 1], \n",
    "#     [-1, -1, -1], \n",
    "#     [-1, -1, 0], \n",
    "#     ])\n",
    "# w[1, 2, :, :] = np.array([\n",
    "#     [0, 0, -1], \n",
    "#     [0, 1, 0], \n",
    "#     [-1, 0, 1], \n",
    "#     ])\n",
    "# b = np.array([1., 0.])\n",
    "\n",
    "# correct_out[1] = np.array([\n",
    "#         [[-3, 1, 6],\n",
    "#         [1, 7, 4],\n",
    "#         [-1, 4, 7]],\n",
    "#         [[-1, -7, -5],\n",
    "#         [4, -9, -6],\n",
    "#         [-2, -5, -5]],\n",
    "#     ])\n",
    "\n",
    "# with weights from data #1\n",
    "correct_out[1] = np.array([\n",
    "[[ 8,  8,  4],\n",
    "   [ 5,  3,  7],\n",
    "   [ 6,  5,  9]],\n",
    "  [[-3,  7,  2],\n",
    "   [-2, -3,  1],\n",
    "   [ 0, -1,  1]]\n",
    "])"
   ]
  },
  {
   "cell_type": "markdown",
   "metadata": {},
   "source": [
    "** Forward pass **"
   ]
  },
  {
   "cell_type": "code",
   "execution_count": 5,
   "metadata": {
    "collapsed": false
   },
   "outputs": [
    {
     "name": "stdout",
     "output_type": "stream",
     "text": [
      "Forward pass error\n",
      "error:  0.0\n"
     ]
    }
   ],
   "source": [
    "x_pad = np.pad(x, ((0, 0), (0, 0), (P, P), (P, P)), 'constant')\n",
    "out = np.empty((N, F, HO, WO))\n",
    "for n in range(N):\n",
    "    for f in range (F):\n",
    "        for i in range(HO):\n",
    "            for j in range(WO):\n",
    "                out[n, f, i, j] = np.sum(x_pad[n, :, i*S:i*S+HF, j*S:j*S+WF] * w[f]) + b[f]\n",
    "\n",
    "print 'Forward pass error'\n",
    "print 'error: ', rel_error(out, correct_out)\n",
    "# print \"out\\n\", out.astype(int) \n",
    "# print \"correct_out\\n\", correct_out"
   ]
  },
  {
   "cell_type": "markdown",
   "metadata": {},
   "source": [
    "** Forward pass in steps **"
   ]
  },
  {
   "cell_type": "code",
   "execution_count": 6,
   "metadata": {
    "collapsed": false
   },
   "outputs": [
    {
     "name": "stdout",
     "output_type": "stream",
     "text": [
      "Forward pass error\n",
      "error:  0.0\n"
     ]
    }
   ],
   "source": [
    "def pad_x(x, P):\n",
    "    \"\"\"\n",
    "    Pad x with P zeros before and after image dimensions\n",
    "    Input \n",
    "        - x (C, H, W)\n",
    "    Output\n",
    "        - x(C, H + 2P, W + 2P)\n",
    "    \"\"\"\n",
    "    return np.pad(x, ((0, 0), (0, 0), (P, P), (P, P)), 'constant')\n",
    "\n",
    "\n",
    "def distribute_x(x, HF, WF, S):\n",
    "    '''\n",
    "    Distribute input image to convolution ready sub-images.  \n",
    "    Make a filter ready image for each filter and output image dimension \n",
    "    Inputs:\n",
    "    - x (N, C, H, W) input image\n",
    "    Output\n",
    "    - out (N, F, HO, WO, C, HF, WF)\n",
    "    -- F number of filters\n",
    "    -- HO, WO, output dimensions\n",
    "    -- C Input channels\n",
    "    -- HF WF filter dimensions\n",
    "    '''\n",
    "    (N, C, HI, WI) = x.shape\n",
    "    HO = 1 + (HI - HF) / S\n",
    "    WO = 1 + (WI - WF) / S\n",
    "    out = np.empty((N, F, HO, WO, C, HF, WF))\n",
    "    for f in range(F):\n",
    "        for i in range(HO):\n",
    "            for j in range(WO):\n",
    "                out[:, f, i, j] = x[:, :, i*S:i*S+HF, j*S:j*S+WF]\n",
    "    return out\n",
    "\n",
    "def multiply_w(x, w):\n",
    "    '''\n",
    "    Apply filters to (C, HF, WF) sections\n",
    "    Inputs\n",
    "    - x (N, F, HO, WO, C, HF, WF)\n",
    "    - w (F, C, HF, WF)\n",
    "    Returns\n",
    "    - out (N, F, HO, WO, C, HF, WF)\n",
    "    '''\n",
    "    out = np.empty((N, F, HO, WO, C, HF, WF))\n",
    "    for f in range(F):\n",
    "        out[:, f, :, :] = x[:, f, :, :] * w[f]\n",
    "    return out\n",
    "    \n",
    "def sum_filter(x):\n",
    "    '''\n",
    "    For each out pixel sum up weighted x*w over (C, HF, WF)\n",
    "    Input\n",
    "    - x (N, F, HO, WO, C, HF, WF)\n",
    "    Output\n",
    "    - out (N, F, HO, WO)\n",
    "    '''\n",
    "    return np.sum(x, axis=(4, 5, 6))\n",
    "\n",
    "def add_bias(x, b):\n",
    "    '''\n",
    "    Apply the bias terms\n",
    "    Inputs\n",
    "    - x (F, HO, WO)\n",
    "    - b (F,)\n",
    "    '''\n",
    "    out = np.empty_like(x)\n",
    "    for n in range(N):\n",
    "        for f in range(F):\n",
    "            out[n, f] = x[n, f] + b[f]\n",
    "    return out\n",
    "\n",
    "\n",
    "xpad = pad_x(x, P)   \n",
    "xdist = distribute_x(xpad, HF, WF, S)\n",
    "xw = multiply_w(xdist, w)\n",
    "xsum = sum_filter(xw)\n",
    "out = add_bias(xsum, b)\n",
    "\n",
    "print 'Forward pass error'\n",
    "print 'error: ', rel_error(out, correct_out)\n"
   ]
  },
  {
   "cell_type": "markdown",
   "metadata": {},
   "source": [
    "** Test back prop on pad **"
   ]
  },
  {
   "cell_type": "code",
   "execution_count": 7,
   "metadata": {
    "collapsed": false
   },
   "outputs": [
    {
     "name": "stdout",
     "output_type": "stream",
     "text": [
      "Testing pad_x function\n",
      "dx error:  3.27562962811e-12\n"
     ]
    }
   ],
   "source": [
    "dout = np.random.randn(N, C, HP, WP)\n",
    "\n",
    "# evaluate numerical gradient\n",
    "dx_num = eval_numerical_gradient_array(lambda x: pad_x(x, P), x, dout)\n",
    "# print \"dx_num\\n\", dx_num\n",
    "\n",
    "# evalute gradient via backpropagation - basically trim off padding\n",
    "dx = dout[:, :, 1:HI + 2 * P - 1, 1:WI + 2 * P - 1]\n",
    "#print \"dx\\n\", dx\n",
    "\n",
    "print 'Testing pad_x function'\n",
    "print 'dx error: ', rel_error(dx, dx_num)\n"
   ]
  },
  {
   "cell_type": "markdown",
   "metadata": {},
   "source": [
    "** test backprop on distribute **"
   ]
  },
  {
   "cell_type": "code",
   "execution_count": 8,
   "metadata": {
    "collapsed": false
   },
   "outputs": [
    {
     "name": "stdout",
     "output_type": "stream",
     "text": [
      "x_dist.shape (2, 2, 3, 3, 3, 3, 3)\n",
      "dout.shape (2, 2, 3, 3, 3, 3, 3)\n",
      "x_pad.shape (2, 3, 7, 7)\n",
      "dx_num.shape (2, 3, 7, 7)\n",
      "Testing distribute_x function\n",
      "dx error:  3.27918820851e-12\n"
     ]
    }
   ],
   "source": [
    "x_pad = pad_x(x, P)   \n",
    "x_dist = distribute_x(x_pad, HF, WF, S)\n",
    "dout = np.random.randn(N, F, HO, WO, C, HF, WF)\n",
    "\n",
    "print \"x_dist.shape\", x_dist.shape\n",
    "print \"dout.shape\", dout.shape\n",
    "\n",
    "# evaluate numerical gradient\n",
    "dx_num = eval_numerical_gradient_array(lambda x: distribute_x(x, HF, WF, S), x_pad, dout)\n",
    "print \"x_pad.shape\", x_pad.shape\n",
    "print \"dx_num.shape\", dx_num.shape\n",
    "\n",
    "\n",
    "#x_dist (F, HO, WO, C, HF, WF)\n",
    "# for each (F, HO, WO)\n",
    "# identify x(i, j) in filter\n",
    "# map from x(i, j) to (C, HF, WF)\n",
    "# dx(i, j) += dxd(F, HO, WO, C, HF, WF)\n",
    "dx = np.zeros_like(x_pad)\n",
    "# for each output (F, HO, WO)\n",
    "for n in range(N):\n",
    "    for f in range(F):\n",
    "        for y_out in range(HO):\n",
    "            for x_out in range (WO):\n",
    "                # get the upper left filter input coordinates\n",
    "                (y_in_ul, x_in_ul) = (y_out * S, x_out * S)\n",
    "                for y_filter in range(HF):\n",
    "                    for x_filter in range(WF):\n",
    "                        (y_in, x_in) = (y_in_ul + y_filter, x_in_ul + x_filter)\n",
    "                        #for c in range(C):\n",
    "                        dx[n, :, y_in, x_in] += dout[n, f, y_out, x_out, :, y_filter, x_filter]\n",
    " \n",
    "print 'Testing distribute_x function'\n",
    "print 'dx error: ', rel_error(dx, dx_num)\n",
    "# print \"dx\\n\", dx\n",
    "# print \"dx_num\\n\", dx_num"
   ]
  },
  {
   "cell_type": "markdown",
   "metadata": {},
   "source": [
    "** Test backprop on add_bias **"
   ]
  },
  {
   "cell_type": "code",
   "execution_count": 9,
   "metadata": {
    "collapsed": false
   },
   "outputs": [
    {
     "name": "stdout",
     "output_type": "stream",
     "text": [
      "Testing add_bias function\n",
      "dx error:  1.89289465062e-11\n",
      "db error:  1.79727231077e-11\n"
     ]
    }
   ],
   "source": [
    "# forward\n",
    "xpad = pad_x(x, P)   \n",
    "xdist = distribute_x(xpad, HF, WF, S)\n",
    "xw = multiply_w(xdist, w)\n",
    "xsum = sum_filter(xw)\n",
    "out = add_bias(xsum, b)\n",
    "dout = np.random.randn(*out.shape)\n",
    "\n",
    "\n",
    "# evaluate numerical gradient\n",
    "dxsum_num = eval_numerical_gradient_array(lambda x: add_bias(x, b), xsum, dout)\n",
    "db_num = eval_numerical_gradient_array(lambda bb: add_bias(xsum, bb), b, dout)\n",
    "\n",
    "# back prop add_bias to dxsum\n",
    "dxsum = dout\n",
    "db = np.sum(dout, axis=(0, 2, 3))\n",
    "\n",
    "print 'Testing add_bias function'\n",
    "print 'dx error: ', rel_error(dxsum, dxsum_num)\n",
    "print 'db error: ', rel_error(db, db_num)"
   ]
  },
  {
   "cell_type": "markdown",
   "metadata": {},
   "source": [
    "** Test backprop on sum **"
   ]
  },
  {
   "cell_type": "code",
   "execution_count": 10,
   "metadata": {
    "collapsed": false
   },
   "outputs": [
    {
     "name": "stdout",
     "output_type": "stream",
     "text": [
      "Testing sum_filter function\n",
      "dx error:  1.89289648701e-11\n"
     ]
    }
   ],
   "source": [
    "# forward\n",
    "xpad = pad_x(x, P)   \n",
    "xdist = distribute_x(xpad, HF, WF, S)\n",
    "xw = multiply_w(xdist, w)\n",
    "xsum = sum_filter(xw)\n",
    "dxsum = np.random.randn(*xsum.shape)\n",
    "\n",
    "# evaluate numerical gradient\n",
    "dxw_num = eval_numerical_gradient_array(lambda x: sum_filter(x), xw, dxsum)\n",
    "\n",
    "# back prop sum_filter to dxw\n",
    "dxw = np.empty_like(xw)\n",
    "for n in range(N):\n",
    "    for f in range(F):\n",
    "        for i in range(HO):\n",
    "            for j in range(WO):\n",
    "                dxw[n, f, i, j] = np.ones((C, HF, WF)) * dxsum[n, f, i, j]\n",
    "\n",
    "print 'Testing sum_filter function'\n",
    "print 'dx error: ', rel_error(dxw, dxw_num)\n"
   ]
  },
  {
   "cell_type": "markdown",
   "metadata": {},
   "source": [
    "** Test back prop on multiply_w **"
   ]
  },
  {
   "cell_type": "code",
   "execution_count": 11,
   "metadata": {
    "collapsed": false
   },
   "outputs": [
    {
     "name": "stdout",
     "output_type": "stream",
     "text": [
      "Testing multiply_x function\n",
      "dw error:  5.09897645272e-13\n",
      "dx error:  3.27563768915e-12\n"
     ]
    }
   ],
   "source": [
    "# forward\n",
    "xpad = pad_x(x, P)   \n",
    "xdist = distribute_x(xpad, HF, WF, S)\n",
    "xw = multiply_w(xdist, w)\n",
    "dxw = np.random.randn(N, F, HO, WO, C, HF, WF)\n",
    "\n",
    "# evaluate numerical gradient\n",
    "dxdist_num = eval_numerical_gradient_array(lambda x: multiply_w(x, w), xdist, dxw)\n",
    "dw_num = eval_numerical_gradient_array(lambda w: multiply_w(xdist, w), w, dxw)\n",
    "\n",
    "# back prop mutliply_w to dxdist and dw\n",
    "dw = np.sum(dxw * xdist, axis=(0, 2, 3))\n",
    "dxdist = np.empty_like(xdist)\n",
    "for i in range(HO):\n",
    "    for j in range(WO):\n",
    "        dxdist[:, :, i, j] = dxw[:, :, i, j] * w\n",
    "        \n",
    "\n",
    "print 'Testing multiply_x function'\n",
    "print 'dw error: ', rel_error(dw, dw_num)\n",
    "print 'dx error: ', rel_error(dxdist, dxdist_num)\n"
   ]
  },
  {
   "cell_type": "markdown",
   "metadata": {},
   "source": [
    "** Test backprop on all layers **"
   ]
  },
  {
   "cell_type": "code",
   "execution_count": 12,
   "metadata": {
    "collapsed": false
   },
   "outputs": [
    {
     "name": "stdout",
     "output_type": "stream",
     "text": [
      "Testing all function\n",
      "dx error:  3.38595416475e-10\n",
      "dw error:  7.99549650036e-11\n",
      "db error:  4.38740777569e-11\n"
     ]
    }
   ],
   "source": [
    "def forward_all(x, w, b, HF, WF, S, P):\n",
    "    xpad = pad_x(x, P)\n",
    "    xdist = distribute_x(xpad, HF, WF, S)\n",
    "    xw = multiply_w(xdist, w)\n",
    "    xsum = sum_filter(xw)\n",
    "    out = add_bias(xsum, b)\n",
    "    return out\n",
    "\n",
    "out = forward_all(x, w, b, HF, WF, S, P)\n",
    "dout = np.random.randn(*out.shape)\n",
    "\n",
    "#\n",
    "# evaluate numerical gradient\n",
    "#\n",
    "dx_num = eval_numerical_gradient_array(lambda x: forward_all(x, w, b, HF, WF, S, P), x, dout)\n",
    "dw_num = eval_numerical_gradient_array(lambda w: forward_all(x, w, b, HF, WF, S, P), w, dout)\n",
    "db_num = eval_numerical_gradient_array(lambda b: forward_all(x, w, b, HF, WF, S, P), b, dout)\n",
    "\n",
    "#\n",
    "# forward pass\n",
    "#\n",
    "xpad = np.pad(x, ((0, 0), (0, 0), (P, P), (P, P)), 'constant')\n",
    "\n",
    "xdist = np.empty((N, F, HO, WO, C, HF, WF))\n",
    "for f in range(F):\n",
    "    for i in range(HO):\n",
    "        for j in range(WO):\n",
    "            xdist[:, f, i, j] = xpad[:, :, i*S:i*S+HF, j*S:j*S+WF]\n",
    "\n",
    "xw = np.empty_like(xdist)\n",
    "for f in range(F):\n",
    "    xw[:, f, :, :] = xdist[:, f, :, :] * w[f]\n",
    "\n",
    "xsum = np.sum(xw, axis=(4, 5, 6))\n",
    "\n",
    "out = np.empty_like(xsum)\n",
    "for n in range(N):\n",
    "    for f in range(F):\n",
    "        out[n, f] = xsum[n, f] + b[f]\n",
    "\n",
    "#\n",
    "# evaluate backprop gradient\n",
    "#\n",
    "\n",
    "# back prop to dxsum and db\n",
    "dxsum = dout\n",
    "db = np.sum(dout, axis=(0, 2, 3))\n",
    "\n",
    "# back prop sum_filter to dxw\n",
    "dxw = np.empty_like(xw)\n",
    "for n in range(N):\n",
    "    for f in range(F):\n",
    "        for i in range(HO):\n",
    "            for j in range(WO):\n",
    "                dxw[n, f, i, j] = np.ones((C, HF, WF)) * dxsum[n, f, i, j]\n",
    "\n",
    "\n",
    "# back prop mutliply_w to dxdist and dw\n",
    "dw = np.sum(dxw * xdist, axis=(0, 2, 3))\n",
    "dxdist = np.empty_like(xdist)\n",
    "for i in range(HO):\n",
    "    for j in range(WO):\n",
    "        dxdist[:, :, i, j] = dxw[:, :, i, j] * w\n",
    "        \n",
    "        \n",
    "# back prop dist to xpad\n",
    "dxpad = np.zeros_like(xpad)\n",
    "for n in range(N):\n",
    "    for f in range(F):\n",
    "        for y_out in range(HO):\n",
    "            for x_out in range (WO):\n",
    "                # get the upper left filter input coordinates\n",
    "                (y_in_ul, x_in_ul) = (y_out * S, x_out * S)\n",
    "                for y_filter in range(HF):\n",
    "                    for x_filter in range(WF):\n",
    "                        (y_in, x_in) = (y_in_ul + y_filter, x_in_ul + x_filter)\n",
    "                        #for c in range(C):\n",
    "                        dxpad[n, :, y_in, x_in] += dxdist[n, f, y_out, x_out, :, y_filter, x_filter]\n",
    "\n",
    "                        \n",
    "# back prop pad\n",
    "dx = dxpad[:, :, 1:HI + 2 * P - 1, 1:WI + 2 * P - 1]\n",
    "\n",
    "print 'Testing all function'\n",
    "print 'dx error: ', rel_error(dx, dx_num)\n",
    "print 'dw error: ', rel_error(dw, dw_num)\n",
    "print 'db error: ', rel_error(db, db_num)\n"
   ]
  },
  {
   "cell_type": "code",
   "execution_count": null,
   "metadata": {
    "collapsed": true
   },
   "outputs": [],
   "source": []
  }
 ],
 "metadata": {
  "kernelspec": {
   "display_name": "Python 2",
   "language": "python",
   "name": "python2"
  },
  "language_info": {
   "codemirror_mode": {
    "name": "ipython",
    "version": 2
   },
   "file_extension": ".py",
   "mimetype": "text/x-python",
   "name": "python",
   "nbconvert_exporter": "python",
   "pygments_lexer": "ipython2",
   "version": "2.7.6"
  }
 },
 "nbformat": 4,
 "nbformat_minor": 0
}
